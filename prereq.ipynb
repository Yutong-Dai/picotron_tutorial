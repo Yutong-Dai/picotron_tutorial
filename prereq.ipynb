{
 "cells": [
  {
   "cell_type": "code",
   "execution_count": 1,
   "id": "42c94552",
   "metadata": {},
   "outputs": [],
   "source": [
    "import torch\n",
    "from torch import nn\n",
    "from torch.functional import F"
   ]
  },
  {
   "cell_type": "markdown",
   "id": "7e206c20",
   "metadata": {},
   "source": [
    "# Softmax, SafeSoftmax, OnlineSoftmax"
   ]
  },
  {
   "cell_type": "code",
   "execution_count": 52,
   "id": "5b1e1181",
   "metadata": {},
   "outputs": [
    {
     "data": {
      "text/plain": [
       "tensor(inf, dtype=torch.float16)"
      ]
     },
     "execution_count": 52,
     "metadata": {},
     "output_type": "execute_result"
    }
   ],
   "source": [
    "x = torch.tensor(range(-3, 3), dtype=torch.float16)\n",
    "xlimt = torch.tensor(12, dtype=torch.float16)\n",
    "xlimt.exp()\n"
   ]
  },
  {
   "cell_type": "code",
   "execution_count": 53,
   "id": "3e833967",
   "metadata": {},
   "outputs": [
    {
     "data": {
      "text/plain": [
       "tensor([-0.2571, -0.1715, -0.0858,  0.0000,  0.0858,  0.1715],\n",
       "       dtype=torch.float16)"
      ]
     },
     "execution_count": 53,
     "metadata": {},
     "output_type": "execute_result"
    }
   ],
   "source": [
    "x / x.exp().sum()"
   ]
  },
  {
   "cell_type": "code",
   "execution_count": 54,
   "id": "95e4bb80",
   "metadata": {},
   "outputs": [
    {
     "data": {
      "text/plain": [
       "tensor([0.0043, 0.0116, 0.0316, 0.0858, 0.2332, 0.6338], dtype=torch.float16)"
      ]
     },
     "execution_count": 54,
     "metadata": {},
     "output_type": "execute_result"
    }
   ],
   "source": [
    "x_calibrated = x - x.max()\n",
    "x_calibrated.exp() / x_calibrated.exp().sum()\n"
   ]
  },
  {
   "cell_type": "code",
   "execution_count": 55,
   "id": "09937f46",
   "metadata": {},
   "outputs": [
    {
     "data": {
      "text/plain": [
       "tensor([0.0043, 0.0116, 0.0316, 0.0858, 0.2332, 0.6338], dtype=torch.float16)"
      ]
     },
     "execution_count": 55,
     "metadata": {},
     "output_type": "execute_result"
    }
   ],
   "source": [
    "torch.softmax(x, dim=-1)"
   ]
  },
  {
   "cell_type": "markdown",
   "id": "dbf21107",
   "metadata": {},
   "source": [
    "# Self-attention"
   ]
  },
  {
   "cell_type": "code",
   "execution_count": 11,
   "id": "056fdd7f",
   "metadata": {},
   "outputs": [],
   "source": [
    "class NaiveSelfAttention(nn.Module):\n",
    "    def __init__(self, embed_size):\n",
    "        super().__init__()\n",
    "        self.embed_size = embed_size\n",
    "        self.scale = self.embed_size ** 0.5\n",
    "        self.q_proj = nn.Linear(embed_size, embed_size)\n",
    "        self.k_proj = nn.Linear(embed_size, embed_size)\n",
    "        self.v_proj = nn.Linear(embed_size, embed_size)\n",
    "        self.out_proj = nn.Linear(embed_size, embed_size)\n",
    "\n",
    "    def forward(self, x):\n",
    "        B, N, _ = x.shape\n",
    "        q = self.q_proj(x)\n",
    "        k = self.k_proj(x)\n",
    "        v = self.v_proj(x)\n",
    "        q = q.view(B, N, self.embed_size)\n",
    "        k = k.view(B, N, self.embed_size)\n",
    "        v = v.view(B, N, self.embed_size)\n",
    "        \n",
    "        attn = q @ k.transpose(-2, -1) / self.scale\n",
    "        # each row, the sum of the softmaxed values is 1; for each query, it's dot product with all keys should be sum of 1\n",
    "        attn = attn.softmax(dim=-1)\n",
    "        out = attn @ v  \n",
    "        return out\n",
    "        "
   ]
  },
  {
   "cell_type": "code",
   "execution_count": 12,
   "id": "e988e549",
   "metadata": {},
   "outputs": [
    {
     "data": {
      "text/plain": [
       "tensor([[[-0.4288,  0.4835,  0.8056,  0.7329],\n",
       "         [-0.3759,  0.4754,  0.8185,  0.6988],\n",
       "         [-0.3261,  0.4747,  0.8004,  0.6714]]], grad_fn=<UnsafeViewBackward0>)"
      ]
     },
     "execution_count": 12,
     "metadata": {},
     "output_type": "execute_result"
    }
   ],
   "source": [
    "x = torch.randn(1, 3, 4)\n",
    "naive_self_attention = NaiveSelfAttention(4)\n",
    "naive_self_attention(x)"
   ]
  },
  {
   "cell_type": "code",
   "execution_count": null,
   "id": "ac08c850",
   "metadata": {},
   "outputs": [],
   "source": [
    "class CausalAttention(nn.Module):\n",
    "    def __init__(self, embed_size, context_length):\n",
    "        super().__init__()\n",
    "        self.embed_size = embed_size\n",
    "        self.scale = self.embed_size ** 0.5\n",
    "        self.q_proj = nn.Linear(embed_size, embed_size)\n",
    "        self.k_proj = nn.Linear(embed_size, embed_size)\n",
    "        self.v_proj = nn.Linear(embed_size, embed_size)\n",
    "        self.out_proj = nn.Linear(embed_size, embed_size)\n",
    "        self.register_buffer('mask', torch.triu(torch.ones(context_length, context_length), diagonal=1))\n",
    "\n",
    "    def forward(self, x):\n",
    "        B, N, _ = x.shape\n",
    "        q = self.q_proj(x)\n",
    "        k = self.k_proj(x)\n",
    "        v = self.v_proj(x)\n",
    "        q = q.view(B, N, self.embed_size)\n",
    "        k = k.view(B, N, self.embed_size)\n",
    "        v = v.view(B, N, self.embed_size)\n",
    "        \n",
    "        attn = q @ k.transpose(-2, -1) / self.scale\n",
    "        # self.mask.bool()[:N, :N] is a boolean tensor of shape (N, N); only the upper triangular part is True (does not include the diagonal), hence the -inf will the upper triangular part; we kept the values of the lower triangular part, including the diagonal as desired\n",
    "        attn = attn.masked_fill_(self.mask.bool()[:N, :N], float('-inf'))\n",
    "        # each row, the sum of the softmaxed values is 1; for each query, it's dot product with all keys should be sum of 1\n",
    "        attn = attn.softmax(dim=-1)\n",
    "        out = attn @ v  \n",
    "        y = self.out_proj(out)\n",
    "        return y\n",
    "        "
   ]
  },
  {
   "cell_type": "code",
   "execution_count": null,
   "id": "9ccb696e",
   "metadata": {},
   "outputs": [],
   "source": [
    "class MultiHeadAttention(nn.Module):\n",
    "    def __init__(self, embed_size, num_heads, context_length):\n",
    "        super().__init__()\n",
    "        self.embed_size = embed_size\n",
    "        self.num_heads = num_heads\n",
    "        assert embed_size % num_heads == 0, \"embed_size must be divisible by num_heads\"\n",
    "        self.head_dim = embed_size // num_heads\n",
    "        self.q_proj = nn.Linear(embed_size, embed_size)\n",
    "        self.k_proj = nn.Linear(embed_size, embed_size)\n",
    "        self.v_proj = nn.Linear(embed_size, embed_size)\n",
    "        self.out_proj = nn.Linear(embed_size, embed_size)\n",
    "        self.register_buffer('mask', torch.triu(torch.ones(context_length, context_length), diagonal=1))\n",
    "        \n",
    "    def forward(self, x):\n",
    "        B, N, _ = x.shape\n",
    "        q = self.q_proj(x)\n",
    "        k = self.k_proj(x)\n",
    "        v = self.v_proj(x)\n",
    "        \n",
    "        # split the query, key, and value into multiple heads\n",
    "        q = q.view(B, N, self.num_heads, self.head_dim)        \n",
    "        k = k.view(B, N, self.num_heads, self.head_dim)\n",
    "        v = v.view(B, N, self.num_heads, self.head_dim)\n",
    "        \n",
    "        \n",
    "        # change the shape to (B, num_heads, N, head_dim)\n",
    "        q = q.transpose(1, 2)\n",
    "        k = k.transpose(1, 2)\n",
    "        v = v.transpose(1, 2)\n",
    "        \n",
    "        # compute attention\n",
    "        attn = q @ k.transpose(-2, -1) / (self.head_dim ** 0.5)\n",
    "        attn = attn.masked_fill_(self.mask.bool()[:N, :N], float('-inf'))\n",
    "        attn = attn.softmax(dim=-1)\n",
    "        # (B, num_heads, N, N) @ (B, num_heads, N, head_dim) -> (B, num_heads, N, head_dim)\n",
    "        out = attn @ v\n",
    "        \n",
    "        # change the shape to (B, N, embed_size)\n",
    "        out = out.transpose(1, 2).contiguous().view(B, N, self.embed_size)\n",
    "        y = self.out_proj(out)\n",
    "        return y\n",
    "        \n",
    "        \n",
    "        "
   ]
  },
  {
   "cell_type": "code",
   "execution_count": 3,
   "id": "f3e455e5",
   "metadata": {},
   "outputs": [
    {
     "data": {
      "text/plain": [
       "tensor([[ 0.4651,    -inf,    -inf],\n",
       "        [ 1.0145,  0.1376,    -inf],\n",
       "        [-1.2505,  0.4200,  1.4277]])"
      ]
     },
     "execution_count": 3,
     "metadata": {},
     "output_type": "execute_result"
    }
   ],
   "source": [
    "context_length = 6\n",
    "mask = torch.triu(torch.ones(context_length, context_length), diagonal=1)\n",
    "N = 3\n",
    "attn = torch.randn(N, N)\n",
    "attn = attn.masked_fill_(mask[:N, :N].bool(), float('-inf'))\n",
    "attn\n"
   ]
  },
  {
   "cell_type": "code",
   "execution_count": 5,
   "id": "3642efdd",
   "metadata": {},
   "outputs": [
    {
     "data": {
      "text/plain": [
       "tensor([[0., 1., 1.],\n",
       "        [0., 0., 1.],\n",
       "        [0., 0., 0.]])"
      ]
     },
     "execution_count": 5,
     "metadata": {},
     "output_type": "execute_result"
    }
   ],
   "source": [
    "mask[:N, :N]"
   ]
  },
  {
   "cell_type": "code",
   "execution_count": 4,
   "id": "131d6af1",
   "metadata": {},
   "outputs": [
    {
     "data": {
      "text/plain": [
       "tensor([[ 0.4651,    -inf,    -inf],\n",
       "        [ 1.0145,  0.1376,    -inf],\n",
       "        [-1.2505,  0.4200,  1.4277]])"
      ]
     },
     "execution_count": 4,
     "metadata": {},
     "output_type": "execute_result"
    }
   ],
   "source": [
    "attn"
   ]
  },
  {
   "cell_type": "markdown",
   "id": "8ee5b439",
   "metadata": {},
   "source": [
    "## GQA"
   ]
  },
  {
   "cell_type": "code",
   "execution_count": null,
   "id": "fa5b208e",
   "metadata": {},
   "outputs": [],
   "source": [
    "class GroupedQueryAttention(nn.Module):\n",
    "    def __init__(self, embed_size, num_query_heads, num_kv_heads, context_length):\n",
    "        \"\"\"\n",
    "        Grouped Query Attention (GQA)\n",
    "        \n",
    "        Args:\n",
    "            embed_size (int): Total embedding dimension.\n",
    "            num_query_heads (int): Number of query heads.\n",
    "            num_kv_heads (int): Number of key/value heads (usually fewer).\n",
    "            context_length (int): Maximum sequence length.\n",
    "        \"\"\"\n",
    "        super().__init__()\n",
    "        assert embed_size % num_query_heads == 0, \"embed_size must be divisible by num_query_heads\"\n",
    "        assert num_query_heads % num_kv_heads == 0, \"num_query_heads must be divisible by num_kv_heads\"\n",
    "\n",
    "        self.embed_size = embed_size\n",
    "        self.num_query_heads = num_query_heads\n",
    "        self.num_kv_heads = num_kv_heads\n",
    "        self.group_size = num_query_heads // num_kv_heads\n",
    "        self.head_dim = embed_size // num_query_heads\n",
    "\n",
    "        # projections\n",
    "        self.q_proj = nn.Linear(embed_size, embed_size)\n",
    "        self.k_proj = nn.Linear(embed_size, num_kv_heads * self.head_dim)\n",
    "        self.v_proj = nn.Linear(embed_size, num_kv_heads * self.head_dim)\n",
    "        self.out_proj = nn.Linear(embed_size, embed_size)\n",
    "\n",
    "        # causal mask\n",
    "        self.register_buffer('mask', torch.triu(torch.ones(context_length, context_length), diagonal=1))\n",
    "\n",
    "    def forward(self, x):\n",
    "        B, N, _ = x.shape\n",
    "\n",
    "        # project\n",
    "        q = self.q_proj(x)\n",
    "        k = self.k_proj(x)\n",
    "        v = self.v_proj(x)\n",
    "\n",
    "        # reshape to heads\n",
    "        q = q.view(B, N, self.num_query_heads, self.head_dim).transpose(1, 2)  # (B, num_query_heads, N, head_dim)\n",
    "        k = k.view(B, N, self.num_kv_heads, self.head_dim).transpose(1, 2)     # (B, num_kv_heads, N, head_dim)\n",
    "        v = v.view(B, N, self.num_kv_heads, self.head_dim).transpose(1, 2)     # (B, num_kv_heads, N, head_dim)\n",
    "\n",
    "        # expand k, v to match grouped queries\n",
    "        if self.group_size > 1:\n",
    "            k = k.repeat_interleave(self.group_size, dim=1)\n",
    "            v = v.repeat_interleave(self.group_size, dim=1)\n",
    "\n",
    "        # scaled dot-product attention\n",
    "        attn = q @ k.transpose(-2, -1) / (self.head_dim ** 0.5)\n",
    "        attn = attn.masked_fill_(self.mask.bool()[:N, :N], float('-inf'))\n",
    "        attn = torch.softmax(attn, dim=-1)\n",
    "\n",
    "        out = attn @ v  # (B, num_query_heads, N, head_dim)\n",
    "        out = out.transpose(1, 2).contiguous().view(B, N, self.embed_size)\n",
    "        y = self.out_proj(out)\n",
    "        return y"
   ]
  },
  {
   "cell_type": "code",
   "execution_count": 11,
   "id": "ef64bc06",
   "metadata": {},
   "outputs": [
    {
     "name": "stdout",
     "output_type": "stream",
     "text": [
      "torch.Size([1, 2, 3])\n",
      "tensor([[[ 1.1628, -0.5913,  0.2090],\n",
      "         [-0.0834, -1.1340, -0.3211]]])\n",
      "torch.Size([1, 4, 3])\n",
      "tensor([[[ 1.1628, -0.5913,  0.2090],\n",
      "         [ 1.1628, -0.5913,  0.2090],\n",
      "         [-0.0834, -1.1340, -0.3211],\n",
      "         [-0.0834, -1.1340, -0.3211]]])\n"
     ]
    }
   ],
   "source": [
    "k = torch.randn(1, 2, 3)\n",
    "print(k.shape)\n",
    "print(k)\n",
    "k_repeat =k.repeat_interleave(2, dim=1)\n",
    "print(k_repeat.shape)\n",
    "print(k_repeat)"
   ]
  },
  {
   "cell_type": "markdown",
   "id": "1eac77aa",
   "metadata": {},
   "source": [
    "# Tensor Parallelism\n",
    "\n",
    "$$Y_{m\\times 2d} = X_{m\\times n} @ W_{n\\times 2d}$$\n",
    "\n",
    "Let tp_size = 2, then \n",
    "\n",
    "$$[Y^1_{m\\times d}, Y^2_{m\\times d}] = [X_{m\\times n} @ W^1_{n\\times d}, X_{m\\times n} @ W^2_{n\\times d}]$$\n",
    "\n",
    "\n",
    "\n",
    "\n",
    "\n"
   ]
  },
  {
   "cell_type": "code",
   "execution_count": null,
   "id": "d2bda7e1",
   "metadata": {},
   "outputs": [
    {
     "name": "stdout",
     "output_type": "stream",
     "text": [
      "Y.shape torch.Size([3, 4])\n",
      "Ys_gathered.shape torch.Size([3, 4])\n"
     ]
    },
    {
     "data": {
      "text/plain": [
       "True"
      ]
     },
     "execution_count": 61,
     "metadata": {},
     "output_type": "execute_result"
    }
   ],
   "source": [
    "# simplified column parallel linear\n",
    "torch.manual_seed(0)    \n",
    "input_dim = 2\n",
    "output_dim = 4\n",
    "W = torch.randn(input_dim, output_dim)\n",
    "X = torch.randn(3, input_dim)\n",
    "Y = X @ W\n",
    "print('Y.shape', Y.shape)\n",
    "\n",
    "tp_size = 2\n",
    "W_tp = torch.split(W, output_dim // tp_size, dim=1)\n",
    "Ys = [X @ W_tp[i] for i in range(tp_size)]\n",
    "Ys_gathered = torch.cat(Ys, dim=1)\n",
    "print('Ys_gathered.shape', Ys_gathered.shape)\n",
    "\n",
    "torch.allclose(Y, Ys_gathered)\n"
   ]
  },
  {
   "cell_type": "code",
   "execution_count": null,
   "id": "06dfbda2",
   "metadata": {},
   "outputs": [],
   "source": []
  }
 ],
 "metadata": {
  "kernelspec": {
   "display_name": "agent-r1",
   "language": "python",
   "name": "python3"
  },
  "language_info": {
   "codemirror_mode": {
    "name": "ipython",
    "version": 3
   },
   "file_extension": ".py",
   "mimetype": "text/x-python",
   "name": "python",
   "nbconvert_exporter": "python",
   "pygments_lexer": "ipython3",
   "version": "3.12.9"
  }
 },
 "nbformat": 4,
 "nbformat_minor": 5
}
